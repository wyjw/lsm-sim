{
 "cells": [
  {
   "cell_type": "code",
   "execution_count": 3,
   "metadata": {},
   "outputs": [
    {
     "data": {
      "image/png": "[encoded data removed]",
      "text/plain": [
       "<Figure size 432x288 with 1 Axes>"
      ]
     },
     "metadata": {
      "needs_background": "light"
     },
     "output_type": "display_data"
    }
   ],
   "source": [
    "%matplotlib inline\n",
    "\n",
    "import matplotlib\n",
    "import numpy as np\n",
    "import matplotlib.pyplot as plt\n",
    "\n",
    "plt.plot([1, 2, 3, 4])\n",
    "plt.ylabel('some numbers')\n",
    "plt.show()"
   ]
  },
  {
   "cell_type": "code",
   "execution_count": 36,
   "metadata": {},
   "outputs": [
    {
     "name": "stdout",
     "output_type": "stream",
     "text": [
      "['0.888', '0.747688']\n"
     ]
    },
    {
     "data": {
      "text/plain": [
       "<matplotlib.collections.PathCollection at 0x11b0c4ef0>"
      ]
     },
     "execution_count": 36,
     "metadata": {},
     "output_type": "execute_result"
    },
    {
     "data": {
      "image/png": "[encoded data removed]",
      "text/plain": [
       "<Figure size 432x288 with 1 Axes>"
      ]
     },
     "metadata": {
      "needs_background": "light"
     },
     "output_type": "display_data"
    }
   ],
   "source": [
    "%matplotlib inline\n",
    "\n",
    "import matplotlib\n",
    "import numpy as np\n",
    "import matplotlib.pyplot as plt\n",
    "from os import listdir\n",
    "from os.path import isfile, join\n",
    "\n",
    "\n",
    "folderPath = \"parameter\"\n",
    "files = [file for file in listdir(folderPath) if isfile(join(folderPath, file))]\n",
    "\n",
    "with open(join(folderPath, files[0])) as f:\n",
    "    content = f.readlines()\n",
    "    content = [x.strip() for x in content] \n",
    "    parameterNames = content[0].split()\n",
    "    parameterDict = dict(map(lambda t: (t[1], t[0]), enumerate(parameterNames)))\n",
    "\n",
    "result = [[]]\n",
    "for i in range(len(parameterNames)) :\n",
    "    result.append([])\n",
    "for file in files:\n",
    "    with open(join(folderPath, file)) as f:\n",
    "        content = f.readlines()\n",
    "        content = [x.strip() for x in content] \n",
    "        parameterValues = content[1].split()\n",
    "        for i in range (len(parameterValues)) :\n",
    "            result[i].append(parameterValues[i])\n",
    "        \n",
    "segmentSize = result[parameterDict['segment_size']]\n",
    "hitRate = result[parameterDict['hit_rate']]\n",
    "print(hit_rate)\n",
    "\n",
    "\n",
    "plt.scatter(segmentSize, hitRate)"
   ]
  },
  {
   "cell_type": "code",
   "execution_count": null,
   "metadata": {},
   "outputs": [],
   "source": []
  }
 ],
 "metadata": {
  "kernelspec": {
   "display_name": "Python 3",
   "language": "python",
   "name": "python3"
  },
  "language_info": {
   "codemirror_mode": {
    "name": "ipython",
    "version": 3
   },
   "file_extension": ".py",
   "mimetype": "text/x-python",
   "name": "python",
   "nbconvert_exporter": "python",
   "pygments_lexer": "ipython3",
   "version": "3.7.2"
  }
 },
 "nbformat": 4,
 "nbformat_minor": 2
}
